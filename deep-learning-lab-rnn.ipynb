{
 "cells": [
  {
   "cell_type": "markdown",
   "id": "25d42224-e40a-4cd6-8907-2993b826e588",
   "metadata": {},
   "source": [
    "🎯 1. Introduction:"
   ]
  },
  {
   "cell_type": "markdown",
   "id": "f3b1ec91-9689-4068-ab25-32fd6ab746bf",
   "metadata": {},
   "source": [
    "Dans le cadre de ce projet, nous explorons l’utilisation du Deep Learning pour l’analyse de sentiments à partir de critiques de films. Plus précisément, nous utilisons un réseau de neurones de type LSTM (Long Short-Term Memory), particulièrement adapté au traitement du langage naturel. Le modèle est entraîné sur le jeu de données IMDb, une référence dans le domaine, afin de prédire automatiquement si une critique est positive ou négative. Ce projet illustre concrètement comment les réseaux neuronaux peuvent être appliqués à des tâches d’analyse textuelle.\n"
   ]
  },
  {
   "cell_type": "markdown",
   "id": "792793e4-f2d0-4e2c-bca2-40600e0d2766",
   "metadata": {},
   "source": [
    "🛠️ 2. Installation de l’environnement"
   ]
  },
  {
   "cell_type": "markdown",
   "id": "049b4597-6956-4257-82a2-916d5949593d",
   "metadata": {},
   "source": [
    "📂 3. Chargement des données"
   ]
  },
  {
   "cell_type": "code",
   "execution_count": 6,
   "id": "9419f0f9-339b-452e-9f65-8882e006893e",
   "metadata": {},
   "outputs": [],
   "source": [
    "from tensorflow.keras.datasets import imdb\n",
    "(x_train, y_train), (x_test, y_test) = imdb.load_data(num_words=10000)"
   ]
  },
  {
   "cell_type": "markdown",
   "id": "6672be06-e4cb-49c6-ae43-1f81d328c00b",
   "metadata": {},
   "source": [
    "🧹 4.Prétraitement des données – Padding"
   ]
  },
  {
   "cell_type": "code",
   "execution_count": 8,
   "id": "3cddadb9-86c7-4b1f-ba23-c99150edeaa5",
   "metadata": {},
   "outputs": [],
   "source": [
    "from tensorflow.keras.preprocessing.sequence import pad_sequences\n",
    "\n",
    "# Padding sur les données d'entraînement\n",
    "x_train_padded = pad_sequences(x_train, maxlen=200)\n",
    "\n",
    "# Padding sur les données de test (à ajouter)\n",
    "x_test_padded = pad_sequences(x_test, maxlen=200)"
   ]
  },
  {
   "cell_type": "markdown",
   "id": "a1a4fcc1-6b12-4d91-8303-e0ec106cecd4",
   "metadata": {},
   "source": [
    "🧠 5.Création du modèle LSTM"
   ]
  },
  {
   "cell_type": "markdown",
   "id": "24cc2c45-3862-40df-b8e6-42d5f12ef61d",
   "metadata": {},
   "source": [
    "Nous allons créer un modèle simple en utilisant l'API Sequential de Keras.\r\n",
    "\r\n",
    "🔤 Embedding : transforme chaque mot (représenté par un entier) en un vecteur dense de taille 64.\r\n",
    "🔁 LSTM : capture les relations et la logique entre les mots dans la séquence.\r\n",
    "🎯 Dense : une couche de sortie avec une activation sigmoïde pour produire une probabilité (entre 0 et 1).\r\n",
    "Ce modèle est adapté à une tâche de classification binaire : critique positive ou négative."
   ]
  },
  {
   "cell_type": "code",
   "execution_count": 5,
   "id": "c7d5cb79-a58b-4f7a-8503-7700c8124b3b",
   "metadata": {},
   "outputs": [
    {
     "data": {
      "text/html": [
       "<pre style=\"white-space:pre;overflow-x:auto;line-height:normal;font-family:Menlo,'DejaVu Sans Mono',consolas,'Courier New',monospace\"><span style=\"font-weight: bold\">Model: \"sequential\"</span>\n",
       "</pre>\n"
      ],
      "text/plain": [
       "\u001b[1mModel: \"sequential\"\u001b[0m\n"
      ]
     },
     "metadata": {},
     "output_type": "display_data"
    },
    {
     "data": {
      "text/html": [
       "<pre style=\"white-space:pre;overflow-x:auto;line-height:normal;font-family:Menlo,'DejaVu Sans Mono',consolas,'Courier New',monospace\">┏━━━━━━━━━━━━━━━━━━━━━━━━━━━━━━━━━━━━━━┳━━━━━━━━━━━━━━━━━━━━━━━━━━━━━┳━━━━━━━━━━━━━━━━━┓\n",
       "┃<span style=\"font-weight: bold\"> Layer (type)                         </span>┃<span style=\"font-weight: bold\"> Output Shape                </span>┃<span style=\"font-weight: bold\">         Param # </span>┃\n",
       "┡━━━━━━━━━━━━━━━━━━━━━━━━━━━━━━━━━━━━━━╇━━━━━━━━━━━━━━━━━━━━━━━━━━━━━╇━━━━━━━━━━━━━━━━━┩\n",
       "│ embedding (<span style=\"color: #0087ff; text-decoration-color: #0087ff\">Embedding</span>)                │ ?                           │     <span style=\"color: #00af00; text-decoration-color: #00af00\">0</span> (unbuilt) │\n",
       "├──────────────────────────────────────┼─────────────────────────────┼─────────────────┤\n",
       "│ lstm (<span style=\"color: #0087ff; text-decoration-color: #0087ff\">LSTM</span>)                          │ ?                           │     <span style=\"color: #00af00; text-decoration-color: #00af00\">0</span> (unbuilt) │\n",
       "├──────────────────────────────────────┼─────────────────────────────┼─────────────────┤\n",
       "│ dense (<span style=\"color: #0087ff; text-decoration-color: #0087ff\">Dense</span>)                        │ ?                           │     <span style=\"color: #00af00; text-decoration-color: #00af00\">0</span> (unbuilt) │\n",
       "└──────────────────────────────────────┴─────────────────────────────┴─────────────────┘\n",
       "</pre>\n"
      ],
      "text/plain": [
       "┏━━━━━━━━━━━━━━━━━━━━━━━━━━━━━━━━━━━━━━┳━━━━━━━━━━━━━━━━━━━━━━━━━━━━━┳━━━━━━━━━━━━━━━━━┓\n",
       "┃\u001b[1m \u001b[0m\u001b[1mLayer (type)                        \u001b[0m\u001b[1m \u001b[0m┃\u001b[1m \u001b[0m\u001b[1mOutput Shape               \u001b[0m\u001b[1m \u001b[0m┃\u001b[1m \u001b[0m\u001b[1m        Param #\u001b[0m\u001b[1m \u001b[0m┃\n",
       "┡━━━━━━━━━━━━━━━━━━━━━━━━━━━━━━━━━━━━━━╇━━━━━━━━━━━━━━━━━━━━━━━━━━━━━╇━━━━━━━━━━━━━━━━━┩\n",
       "│ embedding (\u001b[38;5;33mEmbedding\u001b[0m)                │ ?                           │     \u001b[38;5;34m0\u001b[0m (unbuilt) │\n",
       "├──────────────────────────────────────┼─────────────────────────────┼─────────────────┤\n",
       "│ lstm (\u001b[38;5;33mLSTM\u001b[0m)                          │ ?                           │     \u001b[38;5;34m0\u001b[0m (unbuilt) │\n",
       "├──────────────────────────────────────┼─────────────────────────────┼─────────────────┤\n",
       "│ dense (\u001b[38;5;33mDense\u001b[0m)                        │ ?                           │     \u001b[38;5;34m0\u001b[0m (unbuilt) │\n",
       "└──────────────────────────────────────┴─────────────────────────────┴─────────────────┘\n"
      ]
     },
     "metadata": {},
     "output_type": "display_data"
    },
    {
     "data": {
      "text/html": [
       "<pre style=\"white-space:pre;overflow-x:auto;line-height:normal;font-family:Menlo,'DejaVu Sans Mono',consolas,'Courier New',monospace\"><span style=\"font-weight: bold\"> Total params: </span><span style=\"color: #00af00; text-decoration-color: #00af00\">0</span> (0.00 B)\n",
       "</pre>\n"
      ],
      "text/plain": [
       "\u001b[1m Total params: \u001b[0m\u001b[38;5;34m0\u001b[0m (0.00 B)\n"
      ]
     },
     "metadata": {},
     "output_type": "display_data"
    },
    {
     "data": {
      "text/html": [
       "<pre style=\"white-space:pre;overflow-x:auto;line-height:normal;font-family:Menlo,'DejaVu Sans Mono',consolas,'Courier New',monospace\"><span style=\"font-weight: bold\"> Trainable params: </span><span style=\"color: #00af00; text-decoration-color: #00af00\">0</span> (0.00 B)\n",
       "</pre>\n"
      ],
      "text/plain": [
       "\u001b[1m Trainable params: \u001b[0m\u001b[38;5;34m0\u001b[0m (0.00 B)\n"
      ]
     },
     "metadata": {},
     "output_type": "display_data"
    },
    {
     "data": {
      "text/html": [
       "<pre style=\"white-space:pre;overflow-x:auto;line-height:normal;font-family:Menlo,'DejaVu Sans Mono',consolas,'Courier New',monospace\"><span style=\"font-weight: bold\"> Non-trainable params: </span><span style=\"color: #00af00; text-decoration-color: #00af00\">0</span> (0.00 B)\n",
       "</pre>\n"
      ],
      "text/plain": [
       "\u001b[1m Non-trainable params: \u001b[0m\u001b[38;5;34m0\u001b[0m (0.00 B)\n"
      ]
     },
     "metadata": {},
     "output_type": "display_data"
    }
   ],
   "source": [
    "from tensorflow.keras.models import Sequential\n",
    "from tensorflow.keras.layers import Embedding, LSTM, Dense\n",
    "\n",
    "# Définition du modèle\n",
    "model = Sequential([\n",
    "    Embedding(input_dim=10000, output_dim=64),  # input_length retiré\n",
    "    LSTM(64),\n",
    "    Dense(1, activation='sigmoid')\n",
    "])\n",
    "\n",
    "# Compilation du modèle\n",
    "model.compile(\n",
    "    loss='binary_crossentropy',\n",
    "    optimizer='adam',\n",
    "    metrics=['accuracy']\n",
    ")\n",
    "\n",
    "# Affichage du résumé du modèle\n",
    "model.summary()"
   ]
  },
  {
   "cell_type": "markdown",
   "id": "a43ffca2-4fbf-41b9-a9f2-9de16a7dc5a1",
   "metadata": {},
   "source": [
    "📈 6. Entraînement et visualisation"
   ]
  },
  {
   "cell_type": "code",
   "execution_count": 7,
   "id": "f442a485-43aa-43da-821e-bb3141accf7b",
   "metadata": {
    "scrolled": true
   },
   "outputs": [
    {
     "name": "stdout",
     "output_type": "stream",
     "text": [
      "Epoch 1/5\n",
      "\u001b[1m391/391\u001b[0m \u001b[32m━━━━━━━━━━━━━━━━━━━━\u001b[0m\u001b[37m\u001b[0m \u001b[1m69s\u001b[0m 161ms/step - accuracy: 0.6717 - loss: 0.5825 - val_accuracy: 0.8602 - val_loss: 0.3275\n",
      "Epoch 2/5\n",
      "\u001b[1m391/391\u001b[0m \u001b[32m━━━━━━━━━━━━━━━━━━━━\u001b[0m\u001b[37m\u001b[0m \u001b[1m58s\u001b[0m 149ms/step - accuracy: 0.9026 - loss: 0.2516 - val_accuracy: 0.8626 - val_loss: 0.3321\n",
      "Epoch 3/5\n",
      "\u001b[1m391/391\u001b[0m \u001b[32m━━━━━━━━━━━━━━━━━━━━\u001b[0m\u001b[37m\u001b[0m \u001b[1m52s\u001b[0m 134ms/step - accuracy: 0.9319 - loss: 0.1849 - val_accuracy: 0.8675 - val_loss: 0.3256\n",
      "Epoch 4/5\n",
      "\u001b[1m391/391\u001b[0m \u001b[32m━━━━━━━━━━━━━━━━━━━━\u001b[0m\u001b[37m\u001b[0m \u001b[1m78s\u001b[0m 125ms/step - accuracy: 0.9480 - loss: 0.1445 - val_accuracy: 0.8645 - val_loss: 0.4170\n",
      "Epoch 5/5\n",
      "\u001b[1m391/391\u001b[0m \u001b[32m━━━━━━━━━━━━━━━━━━━━\u001b[0m\u001b[37m\u001b[0m \u001b[1m48s\u001b[0m 122ms/step - accuracy: 0.9597 - loss: 0.1113 - val_accuracy: 0.8601 - val_loss: 0.3755\n"
     ]
    },
    {
     "data": {
      "text/plain": [
       "Text(0.5, 1.0, 'Accuracy')"
      ]
     },
     "execution_count": 7,
     "metadata": {},
     "output_type": "execute_result"
    },
    {
     "data": {
      "image/png": "[encoded data removed]",
      "text/plain": [
       "<Figure size 640x480 with 1 Axes>"
      ]
     },
     "metadata": {},
     "output_type": "display_data"
    }
   ],
   "source": [
    "history = model.fit(x_train_padded, y_train, epochs=5, batch_size=64, validation_data=(x_test_padded, y_test))\n",
    "import matplotlib.pyplot as plt\n",
    "plt.plot(history.history['accuracy'], label='Train')\n",
    "plt.plot(history.history['val_accuracy'], label='Validation')\n",
    "plt.legend(); plt.title(\"Accuracy\")\n"
   ]
  },
  {
   "cell_type": "markdown",
   "id": "8cda26b1-7288-4520-b21e-113baad440b6",
   "metadata": {},
   "source": [
    "🤖 7. Prédire sur de nouveaux textes"
   ]
  },
  {
   "cell_type": "markdown",
   "id": "a4365536-fbcf-405f-98fd-2a85621ffbc0",
   "metadata": {},
   "source": [
    "# Qu’est-ce qu’un token ?\n",
    "\r\n",
    "Un token est une unité de texte.\r\n",
    "Dans notre cas (analyse de sentiment), chaque mot d'une critique devient un token, généralement représenté par un entir.\r\n",
    "\r\n",
    "par Exemple :Phrase :\"This movie was great\"\r\n",
    "Tokenisation (par mot) :on obtien un vecteur [\"this\", \"movie\", \"was\", \"great\"]\r\n",
    "Avec word_index (IMDB),encode ce vecteur en tokens on obtient des valeurs numériques"
   ]
  },
  {
   "cell_type": "code",
   "execution_count": 9,
   "id": "81003362-f451-4efb-90a8-4369356041fd",
   "metadata": {},
   "outputs": [
    {
     "name": "stdout",
     "output_type": "stream",
     "text": [
      "\u001b[1m1/1\u001b[0m \u001b[32m━━━━━━━━━━━━━━━━━━━━\u001b[0m\u001b[37m\u001b[0m \u001b[1m0s\u001b[0m 317ms/step\n",
      "[[0.6969149]]\n",
      "Probabilité d’avis positif : 0.6969\n",
      "Prédiction : Positif 😊\n"
     ]
    }
   ],
   "source": [
    "def encode_review(text):\n",
    "    word_index = imdb.get_word_index()\n",
    "    word_index = {k:(v+3) for k,v in word_index.items()}\n",
    "    word_index[\"<PAD>\"] = 0\n",
    "    word_index[\"<START>\"] = 1\n",
    "    word_index[\"<UNK>\"] = 2\n",
    "    tokens = text.lower().split()\n",
    "    return [1] + [word_index.get(w, 2) for w in tokens]\n",
    "\n",
    "review = \"This movie was amazing and emotional\"\n",
    "encoded = pad_sequences([encode_review(review)], maxlen=200)\n",
    "prediction = model.predict(encoded)\n",
    "print(prediction)\n",
    "print(f\"Probabilité d’avis positif : {prediction[0][0]:.4f}\")\n",
    "print(\"Prédiction :\", \"Positif 😊\" if prediction[0][0] > 0.5 else \"Négatif 😠\")\n"
   ]
  },
  {
   "cell_type": "markdown",
   "id": "b64fa4a2-c22b-4f3c-9544-1d59009902b6",
   "metadata": {},
   "source": [
    "✅ 8. Conclusion"
   ]
  },
  {
   "cell_type": "markdown",
   "id": "326dd80b-10a2-4a10-8033-3d509c0ec162",
   "metadata": {},
   "source": [
    "Ce projet permis de comprendre concrètement comment utiliser les RNN (Réseaux de neurones récurrents) pour la classification de texte.\r\n",
    "On a vu comment charger des données, et préparer, créer un modèle LSTM , l'entraîner et faire des prédictions. \r\n",
    "Le tout fonctionne très bien avec ~85 % de précisio\n",
    "\n",
    "Merci d’avoir regardé cette vidéo ! 🎥😊n."
   ]
  }
 ],
 "metadata": {
  "kernelspec": {
   "display_name": "Python 3 (ipykernel)",
   "language": "python",
   "name": "python3"
  },
  "language_info": {
   "codemirror_mode": {
    "name": "ipython",
    "version": 3
   },
   "file_extension": ".py",
   "mimetype": "text/x-python",
   "name": "python",
   "nbconvert_exporter": "python",
   "pygments_lexer": "ipython3",
   "version": "3.11.7"
  }
 },
 "nbformat": 4,
 "nbformat_minor": 5
}
